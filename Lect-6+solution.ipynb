{
 "cells": [
  {
   "cell_type": "markdown",
   "metadata": {},
   "source": [
    "# Lecture 6: Cleaning It All Up\n",
    "\n",
    "(Summer 2023)\n"
   ]
  },
  {
   "cell_type": "code",
   "execution_count": null,
   "metadata": {},
   "outputs": [],
   "source": [
    "# Bring in the packages we have used before.\n",
    "\n",
    "import math\n",
    "import numpy as np\n",
    "import matplotlib as mpl\n",
    "import matplotlib.pyplot as plt\n",
    "import pandas as pd\n",
    "import scipy.linalg as la"
   ]
  },
  {
   "cell_type": "code",
   "execution_count": null,
   "metadata": {},
   "outputs": [],
   "source": [
    "# What version of pandas are we running ... ?\n",
    "pd.__version__"
   ]
  },
  {
   "cell_type": "markdown",
   "metadata": {},
   "source": [
    "## Summary of Friday ...\n",
    "\n",
    "* Intro to the basic pandas data structures: `index`, `series`, and `dataframe`\n",
    "* How to construct them ... `pd.Series`, `pd.DataFrame`\n",
    "* How to access the insides of series and dataframes ... `df.index`, `df.values`, `df[3]`, `df[3:7]`, `df.head()`, `df.tail()`, `df.describe()`\n",
    "* Comparison of numpy arrays and pandas dataframes (e.g., implicit indices vs. explicit indices)\n",
    "* Sorting: `df.sort_index(axis={0 or 1}, ascending={True or False})`, `df.sort_values(by='{a column label}')`\n",
    "* Converting between dataframes and numpy: `d = df.to_numpy()`, `df = pd.DataFrame(d)`\n",
    "* Reading a csv file and creating a dataframe: `pandas.read_csv()`\n",
    "* We opened two datasets `wheatyields` and `cities_and_towns` to illustrate some pandas methods\n",
    "* Finallly we opened two datasets `WheatYields--Wrangled` and `Wrangled-cities-and-towns-of-the-united-states` to illustrate merging of dataframes and plotting from dataframes.\n",
    "\n",
    "<a href=\"https://pandas.pydata.org/docs/user_guide/10min.html\" target=\"_blank\">10 Minutes to Pandas</a>\n",
    "\n",
    "## In this lecture we will pick up from where we left off and try to explore a few more tools, mostly looking at real data sets ..."
   ]
  },
  {
   "cell_type": "code",
   "execution_count": null,
   "metadata": {},
   "outputs": [],
   "source": []
  },
  {
   "cell_type": "markdown",
   "metadata": {},
   "source": [
    "## Bring in Cities and Towns of the US Data Set ...\n",
    "\n",
    "We will bring in the original and demonstrate wrangling it using pandas tools rather than the low level methods previously explored ..."
   ]
  },
  {
   "cell_type": "code",
   "execution_count": null,
   "metadata": {},
   "outputs": [],
   "source": [
    "CitiesAndTowns = pd.read_csv('Data/cities-and-towns-of-the-united-states.csv')\n",
    "CitiesAndTowns"
   ]
  },
  {
   "cell_type": "markdown",
   "metadata": {},
   "source": [
    "### Certainly not happy with this. Looking at the header line we see that the issue is likely with the separator, i.e., they are using `;` rather than `,`\n",
    "\n",
    "So let's go to the `pandas.read_csv` documentation ...\n",
    "\n",
    "<a href=\"https://pandas.pydata.org/docs/reference/api/pandas.read_csv.html\" target=\"_blank\">pandas.read_csv</a>\n",
    "\n",
    "The parameter `sep` needs to be changed from its default value ..."
   ]
  },
  {
   "cell_type": "code",
   "execution_count": null,
   "metadata": {},
   "outputs": [],
   "source": [
    "CitiesAndTowns = pd.read_csv('Data/cities-and-towns-of-the-united-states.csv', sep=';')"
   ]
  },
  {
   "cell_type": "code",
   "execution_count": null,
   "metadata": {},
   "outputs": [],
   "source": [
    "CitiesAndTowns"
   ]
  },
  {
   "cell_type": "markdown",
   "metadata": {},
   "source": [
    "### That's better!"
   ]
  },
  {
   "cell_type": "code",
   "execution_count": null,
   "metadata": {},
   "outputs": [],
   "source": [
    "CitiesAndTowns.columns"
   ]
  },
  {
   "cell_type": "markdown",
   "metadata": {},
   "source": [
    "## Decoding the data ...\n",
    "\n",
    "Notice the complexity of the data and the seming redundancy. There are 18 header items:\n",
    "\n",
    "0. Geo Point: is a lat, lon pair, e.g., 44.2998540717,-120.834480347\n",
    "1. Geo Shape: is a Json-like object, e.g., \"{\"\"type\"\": \"\"Point\"\", \"\"coordinates\"\": [-120.83448034701922, 44.299854071684514]}\"\n",
    "2. GNIS ID: is an integer, e.g., 1154317\n",
    "3. ANSICODE: is an integer, e.g., 2411494\n",
    "4. FEATURE: is a text descriptor, e.g., Civil\n",
    "5. FEATURE2: is a text descriptor, e.g., County Seat\n",
    "6. NAME: seems to be the name of the Feature, e.g., Prineville (the name of a city apparently)\n",
    "7. POP 2010: probably the population of the entity in 2010, e.g., 9253\n",
    "8. COUNTY: name, e.g., Crook\n",
    "9. COUNTY FIPS: a 3 digit integer uniquely identifying the county in the state, e.g., 013\n",
    "10. STATE: name abbreviation, e.g., OR\n",
    "11. STATE FIPS: a 2 digit code identifying the state, e.g., 41\n",
    "12. LATITUDE: similar number, e.g., 44.2998485, but with less precision\n",
    "13. LONGITUDE: similar number, e.g., -120.8344664, but with less precision\n",
    "14. PopPlLat: seems are repetition of the above number, e.g., 44.2998485\n",
    "15. PopPlLong: seems a repetition of the above number, e.g., -120.8344664\n",
    "16. ELEV IN M: 878\n",
    "17. ELEV IN FT: 2881\n",
    "\n",
    "To better understand some of these, it would be helpful to see the range of values that are present in the data. Of course, this can be easily done with excel.\n",
    "\n",
    "## In the next cell I pull out the information of interest ...\n",
    "\n",
    "Essentially I need to create a \"location\" for each state-county pair. Then I might be able to create maps colored by data from the USDA web page. Therefore, the items of most interest are ...\n",
    "\n",
    "`FEATURE`\n",
    "`FEATURE2`\n",
    "`POP 2010`\n",
    "`COUNTY`\n",
    "`COUNTY FIPS`\n",
    "`STATE`\n",
    "`STATE FIPS`\n",
    "`LATITUDE`\n",
    "`LONGITUDE`\n",
    "`ELEV IN FT`\n"
   ]
  },
  {
   "cell_type": "code",
   "execution_count": null,
   "metadata": {},
   "outputs": [],
   "source": [
    "# Lets create a new CitiesAndTowns with only the info desired ...\n",
    "\n",
    "CitiesAndTowns = CitiesAndTowns[['FEATURE', 'FEATURE2', 'POP 2010', 'COUNTY', 'COUNTY FIPS', 'STATE', 'STATE FIPS', 'LATITUDE', 'LONGITUDE', 'ELEV IN FT']]\n",
    "print(CitiesAndTowns)"
   ]
  },
  {
   "cell_type": "markdown",
   "metadata": {},
   "source": [
    "### Lets look closer a FEATURE2 ..."
   ]
  },
  {
   "cell_type": "code",
   "execution_count": null,
   "metadata": {},
   "outputs": [],
   "source": [
    "CitiesAndTowns['FEATURE2'].unique()"
   ]
  },
  {
   "cell_type": "markdown",
   "metadata": {},
   "source": [
    "### Of most interest regarding counties are the labels\n",
    "\n",
    "`County Seat` and `State Capital County Seat`"
   ]
  },
  {
   "cell_type": "code",
   "execution_count": null,
   "metadata": {},
   "outputs": [],
   "source": [
    "Flag = (CitiesAndTowns['FEATURE2'] == 'County Seat') | (CitiesAndTowns['FEATURE2'] == 'State Capital County Seat')"
   ]
  },
  {
   "cell_type": "code",
   "execution_count": null,
   "metadata": {},
   "outputs": [],
   "source": [
    "Flag"
   ]
  },
  {
   "cell_type": "code",
   "execution_count": null,
   "metadata": {},
   "outputs": [],
   "source": [
    "CountySeats = CitiesAndTowns.loc[Flag]\n",
    "CountySeats"
   ]
  },
  {
   "cell_type": "markdown",
   "metadata": {},
   "source": [
    "### Indexers: `.loc` and `.iloc`, etc.\n",
    "\n",
    "Some of the slicing and indexing operations we've learned in dealing with numpy arrays are a potential source of confusion when applied to pandas series and dataframes.\n",
    "\n",
    "Above we used the `.loc` method so let's digress briefly to go over it ..."
   ]
  },
  {
   "cell_type": "code",
   "execution_count": null,
   "metadata": {},
   "outputs": [],
   "source": [
    "# Keep this simple data for now ...\n",
    "\n",
    "area_dict = {'Alaska': 665400, 'California': 163696, 'Texas': 268597, 'New York': 54556, 'Florida': 65758, 'Illinois': 57915, 'Indiana': 35826, 'Colorado': 104185}\n",
    "pop_dict = {'Alaska': 732673, 'California': 39240000, 'Texas': 29530000, 'New York': 19840000, 'Florida': 21780000, 'Illinois': 12670000, 'Indiana': 6806000, 'Colorado': 5812000}\n",
    "area = pd.Series(area_dict)\n",
    "population = pd.Series(pop_dict)\n",
    "states = pd.DataFrame({'population': population, 'area': area})\n",
    "states\n"
   ]
  },
  {
   "cell_type": "code",
   "execution_count": null,
   "metadata": {},
   "outputs": [],
   "source": [
    "area"
   ]
  },
  {
   "cell_type": "code",
   "execution_count": null,
   "metadata": {},
   "outputs": [],
   "source": [
    "area[0]"
   ]
  },
  {
   "cell_type": "code",
   "execution_count": null,
   "metadata": {},
   "outputs": [],
   "source": [
    "area['Alaska']"
   ]
  },
  {
   "cell_type": "markdown",
   "metadata": {},
   "source": [
    "### Explicit index vs. Implicit index\n",
    "\n",
    "In the example above the explicit index is `'Alaska'` and the corresponding implicit index is `0` ... Notice what happens in the following cases ..."
   ]
  },
  {
   "cell_type": "code",
   "execution_count": null,
   "metadata": {},
   "outputs": [],
   "source": [
    "# Using .loc when the index is not one of its explicit values ...\n",
    "\n",
    "area.loc[0]"
   ]
  },
  {
   "cell_type": "code",
   "execution_count": null,
   "metadata": {},
   "outputs": [],
   "source": [
    "# Using .iloc when the index is not one of its implicit values (e.g., not an integer)\n",
    "\n",
    "area.iloc['Alaska']"
   ]
  },
  {
   "cell_type": "code",
   "execution_count": null,
   "metadata": {},
   "outputs": [],
   "source": [
    "# How does slicing work for implicit values ...\n",
    "\n",
    "area[2:4]"
   ]
  },
  {
   "cell_type": "code",
   "execution_count": null,
   "metadata": {},
   "outputs": [],
   "source": [
    "area.iloc[2:4]"
   ]
  },
  {
   "cell_type": "code",
   "execution_count": null,
   "metadata": {},
   "outputs": [],
   "source": [
    "area['Texas':'Florida']"
   ]
  },
  {
   "cell_type": "code",
   "execution_count": null,
   "metadata": {},
   "outputs": [],
   "source": [
    "area.loc['Texas':'Florida']"
   ]
  },
  {
   "cell_type": "markdown",
   "metadata": {},
   "source": [
    "### Notice how slicing is done differently depending on if the index is explicit or implicit!\n",
    "\n",
    "If the explicit indices are also integers, then there is a potential for confusion. To avoid this possible confusion, python provides `.loc` and `.iloc` to force one or the other interpretation. In the above example there would not be a problem. Following is an example where there is potential for confusion ..."
   ]
  },
  {
   "cell_type": "code",
   "execution_count": null,
   "metadata": {},
   "outputs": [],
   "source": [
    "dexample = pd.Series(['a', 'b', 'c', 'd', 'e'], index = [1, 4, 6, 7, 99])\n",
    "dexample"
   ]
  },
  {
   "cell_type": "code",
   "execution_count": null,
   "metadata": {},
   "outputs": [],
   "source": [
    "# Explicit index when indexing\n",
    "\n",
    "dexample[4]"
   ]
  },
  {
   "cell_type": "code",
   "execution_count": null,
   "metadata": {},
   "outputs": [],
   "source": [
    "# But implicit index when slicing ...\n",
    "\n",
    "dexample[1:4]"
   ]
  },
  {
   "cell_type": "code",
   "execution_count": null,
   "metadata": {},
   "outputs": [],
   "source": [
    "# what if we try to use an implicit index ... ?\n",
    "# This will cause an error.\n",
    "\n",
    "dexample[0]"
   ]
  },
  {
   "cell_type": "code",
   "execution_count": null,
   "metadata": {},
   "outputs": [],
   "source": [
    "# .loc forces the index to be explicit\n",
    "\n",
    "dexample.loc[1:4]"
   ]
  },
  {
   "cell_type": "code",
   "execution_count": null,
   "metadata": {},
   "outputs": [],
   "source": [
    "# .iloc forces the index to be implicit\n",
    "dexample.iloc[1:4]"
   ]
  },
  {
   "cell_type": "markdown",
   "metadata": {},
   "source": [
    "### Not using one or the other then falls to the python interpreter to decide ... Therefore, recommend to use one or the other"
   ]
  },
  {
   "cell_type": "code",
   "execution_count": null,
   "metadata": {},
   "outputs": [],
   "source": [
    "# But note that in our original example, it would not have mattered ...\n",
    "\n",
    "CountySeats2 = CitiesAndTowns[Flag]\n",
    "CountySeats2"
   ]
  },
  {
   "cell_type": "markdown",
   "metadata": {},
   "source": [
    "### Back to the `CountySeats` data and more wrangling aka clean-up ..."
   ]
  },
  {
   "cell_type": "code",
   "execution_count": null,
   "metadata": {},
   "outputs": [],
   "source": [
    "# What are the values taken by FEATURE2 ... ? That is, just double checking\n",
    "# that we got the desired result after applying the FLAG filter\n",
    "\n",
    "CountySeats['FEATURE2'].unique()"
   ]
  },
  {
   "cell_type": "code",
   "execution_count": null,
   "metadata": {},
   "outputs": [],
   "source": [
    "# Another data check ... Which reveals some impossible values apparently\n",
    "# used to mark the existence of no data or some such ...\n",
    "\n",
    "CountySeats['POP 2010'].min()"
   ]
  },
  {
   "cell_type": "code",
   "execution_count": null,
   "metadata": {},
   "outputs": [],
   "source": [
    "# Create a flag index to filter out the impossible values ...\n",
    "\n",
    "Flag = (CountySeats['POP 2010'] > 0)\n",
    "Flag"
   ]
  },
  {
   "cell_type": "code",
   "execution_count": null,
   "metadata": {},
   "outputs": [],
   "source": [
    "# Now filter using the recommended indexer ...\n",
    "\n",
    "CountySeats = CountySeats.loc[Flag]"
   ]
  },
  {
   "cell_type": "code",
   "execution_count": null,
   "metadata": {},
   "outputs": [],
   "source": [
    "# Did it work ... ?\n",
    "\n",
    "CountySeats['POP 2010'].min()"
   ]
  },
  {
   "cell_type": "markdown",
   "metadata": {},
   "source": [
    "## Implementing various plots as examples ..."
   ]
  },
  {
   "cell_type": "code",
   "execution_count": null,
   "metadata": {},
   "outputs": [],
   "source": [
    "ax1 = CountySeats.plot.scatter(x='LONGITUDE',y='LATITUDE',s=1)\n",
    "ax1.grid()"
   ]
  },
  {
   "cell_type": "code",
   "execution_count": null,
   "metadata": {},
   "outputs": [],
   "source": [
    "CountySeats['ELEV IN FT']"
   ]
  },
  {
   "cell_type": "code",
   "execution_count": null,
   "metadata": {},
   "outputs": [],
   "source": [
    "dv = CountySeats['ELEV IN FT']\n",
    "dlat = CountySeats['LATITUDE']\n",
    "dlon = CountySeats['LONGITUDE']\n",
    "fig = plt.figure()\n",
    "plt.style.use('classic')\n",
    "plt.scatter(dlon, dlat, c=dv, cmap='cool')\n",
    "plt.colorbar()\n",
    "plt.title(\"Elevation of County Seats in ft.\")\n",
    "plt.xlabel(\"Longitude Degrees\")\n",
    "plt.ylabel(\"Latitude Degrees\")\n",
    "plt.grid()"
   ]
  },
  {
   "cell_type": "code",
   "execution_count": null,
   "metadata": {},
   "outputs": [],
   "source": [
    "dv = CountySeats['POP 2010']\n",
    "dlat = CountySeats['LATITUDE']\n",
    "dlon = CountySeats['LONGITUDE']\n",
    "fig = plt.figure()\n",
    "plt.style.use('classic')\n",
    "plt.scatter(dlon, dlat, c=dv, cmap='cool')\n",
    "plt.colorbar()\n",
    "plt.title(\"2010 Population of County Seats\")\n",
    "plt.xlabel(\"Longitude Degrees\")\n",
    "plt.ylabel(\"Latitude Degrees\")\n",
    "plt.grid()"
   ]
  },
  {
   "cell_type": "code",
   "execution_count": null,
   "metadata": {},
   "outputs": [],
   "source": [
    "dv = CountySeats['POP 2010']\n",
    "dlat = CountySeats['LATITUDE']\n",
    "dlon = CountySeats['LONGITUDE']\n",
    "fig = plt.figure()\n",
    "plt.style.use('classic')\n",
    "plt.scatter(dlon, dlat, s=dv/10000, alpha = 0.4) \n",
    "plt.title(\"2010 Population of County Seats\")\n",
    "plt.xlabel(\"Longitude Degrees\")\n",
    "plt.ylabel(\"Latitude Degrees\")\n",
    "plt.grid()"
   ]
  },
  {
   "cell_type": "code",
   "execution_count": null,
   "metadata": {},
   "outputs": [],
   "source": [
    "fig = plt.figure()\n",
    "plt.style.use('classic')\n",
    "plt.scatter(dlon, dlat, s=dv/10000, alpha = 0.4) \n",
    "plt.title(\"2010 Population of County Seats\")\n",
    "\n",
    "plt.xlim(-130,-65)\n",
    "plt.ylim(24,50)\n",
    "\n",
    "plt.xlabel(\"Longitude Degrees\")\n",
    "plt.ylabel(\"Latitude Degrees\")\n",
    "plt.grid()"
   ]
  },
  {
   "cell_type": "code",
   "execution_count": null,
   "metadata": {},
   "outputs": [],
   "source": []
  },
  {
   "cell_type": "markdown",
   "metadata": {},
   "source": [
    "## Repeating the data clean up for WheatYields"
   ]
  },
  {
   "cell_type": "code",
   "execution_count": null,
   "metadata": {},
   "outputs": [],
   "source": [
    "WheatYields = pd.read_csv('Data/WheatYields.csv')\n",
    "WheatYields"
   ]
  },
  {
   "cell_type": "code",
   "execution_count": null,
   "metadata": {},
   "outputs": [],
   "source": [
    "WheatYields.columns"
   ]
  },
  {
   "cell_type": "code",
   "execution_count": null,
   "metadata": {},
   "outputs": [],
   "source": [
    "WheatYields = WheatYields[['Year', 'State', 'State ANSI', 'County', 'County ANSI', 'Value']]\n",
    "print(WheatYields)"
   ]
  },
  {
   "cell_type": "code",
   "execution_count": null,
   "metadata": {},
   "outputs": [],
   "source": [
    "WheatYields['County'].unique()"
   ]
  },
  {
   "cell_type": "markdown",
   "metadata": {},
   "source": [
    "### Everything looks like a legitimate county name except for `'OTHER (COMBINED) COUNTIES'` Let's remove that ..."
   ]
  },
  {
   "cell_type": "code",
   "execution_count": null,
   "metadata": {},
   "outputs": [],
   "source": [
    "Flag = (WheatYields['County'] != 'OTHER (COMBINED) COUNTIES')\n",
    "Flag"
   ]
  },
  {
   "cell_type": "code",
   "execution_count": null,
   "metadata": {},
   "outputs": [],
   "source": [
    "WheatYields = WheatYields.loc[Flag]\n",
    "WheatYields"
   ]
  },
  {
   "cell_type": "code",
   "execution_count": null,
   "metadata": {},
   "outputs": [],
   "source": []
  },
  {
   "cell_type": "markdown",
   "metadata": {},
   "source": [
    "## What I'd like to do ...\n",
    "\n",
    "### Merge these two tables to create a single table with the following columns ...\n",
    "\n",
    "Year, State Ansi/Fips, County Ansi/Fips, Latitude, Longitude, Value (wheat yield in bu/acre)\n",
    "\n",
    "This really amounts to deleting certain columns from the WheatYields dataframe and adding the columns for latitude and longitude\n"
   ]
  },
  {
   "cell_type": "code",
   "execution_count": null,
   "metadata": {},
   "outputs": [],
   "source": [
    "CountySeats.index"
   ]
  },
  {
   "cell_type": "code",
   "execution_count": null,
   "metadata": {},
   "outputs": [],
   "source": [
    "CountySeats.columns"
   ]
  },
  {
   "cell_type": "code",
   "execution_count": null,
   "metadata": {},
   "outputs": [],
   "source": [
    "WheatYields.index"
   ]
  },
  {
   "cell_type": "code",
   "execution_count": null,
   "metadata": {},
   "outputs": [],
   "source": [
    "WheatYields.columns"
   ]
  },
  {
   "cell_type": "markdown",
   "metadata": {},
   "source": [
    "### Suppose you wanted to make a combined FIPs ....\n",
    "\n",
    "Let the integer FIPs be defined by putting the state FIPs into the 1000s place and letting the county FIPS represent a number between 1 and 999 ..."
   ]
  },
  {
   "cell_type": "code",
   "execution_count": null,
   "metadata": {},
   "outputs": [],
   "source": [
    "CountySeats.loc[:,'CombinedFIPS'] = 1000*CountySeats.loc[:,'STATE FIPS'] + CountySeats.loc[:,'COUNTY FIPS']\n",
    "WheatYields.loc[:,'CombinedFIPS'] = 1000*WheatYields.loc[:,'State ANSI'] + WheatYields.loc[:,'County ANSI']"
   ]
  },
  {
   "cell_type": "code",
   "execution_count": null,
   "metadata": {},
   "outputs": [],
   "source": [
    "CountySeats"
   ]
  },
  {
   "cell_type": "code",
   "execution_count": null,
   "metadata": {},
   "outputs": [],
   "source": [
    "WheatYields"
   ]
  },
  {
   "cell_type": "code",
   "execution_count": null,
   "metadata": {},
   "outputs": [],
   "source": [
    "CountySeats.values"
   ]
  },
  {
   "cell_type": "code",
   "execution_count": null,
   "metadata": {},
   "outputs": [],
   "source": [
    "WheatYields.loc[WheatYields.Year == 2007, :]"
   ]
  },
  {
   "cell_type": "markdown",
   "metadata": {},
   "source": [
    "### There is a lot of superfluous information ... Pare it down to simplify"
   ]
  },
  {
   "cell_type": "code",
   "execution_count": null,
   "metadata": {},
   "outputs": [],
   "source": [
    "NewWheatYields = WheatYields.loc[:, ['Year', 'Value', 'CombinedFIPS']]\n",
    "NewWheatYields"
   ]
  },
  {
   "cell_type": "code",
   "execution_count": null,
   "metadata": {},
   "outputs": [],
   "source": [
    "CountySeats"
   ]
  },
  {
   "cell_type": "code",
   "execution_count": null,
   "metadata": {},
   "outputs": [],
   "source": [
    "NewCountySeats = CountySeats.loc[(CountySeats.FEATURE2 == 'County Seat') | (CountySeats.FEATURE2 == 'State Capital County Seat'), ['LATITUDE', 'LONGITUDE', 'CombinedFIPS']]\n",
    "NewCountySeats"
   ]
  },
  {
   "cell_type": "code",
   "execution_count": null,
   "metadata": {},
   "outputs": [],
   "source": [
    "Blah = pd.merge(NewCountySeats, NewWheatYields)"
   ]
  },
  {
   "cell_type": "code",
   "execution_count": null,
   "metadata": {},
   "outputs": [],
   "source": [
    "Blah.CombinedFIPS.unique()"
   ]
  },
  {
   "cell_type": "code",
   "execution_count": null,
   "metadata": {},
   "outputs": [],
   "source": [
    "Blah"
   ]
  },
  {
   "cell_type": "code",
   "execution_count": null,
   "metadata": {},
   "outputs": [],
   "source": [
    "Blah.loc[Blah.Year == 1999,:]"
   ]
  },
  {
   "cell_type": "code",
   "execution_count": null,
   "metadata": {},
   "outputs": [],
   "source": [
    "dv = Blah.loc[Blah.Year == 1999,'Value']\n",
    "dlat = Blah.loc[Blah.Year == 1999,'LATITUDE']\n",
    "dlon = Blah.loc[Blah.Year == 1999,'LONGITUDE']\n",
    "type(dv)"
   ]
  },
  {
   "cell_type": "code",
   "execution_count": null,
   "metadata": {},
   "outputs": [],
   "source": [
    "fig = plt.figure()\n",
    "plt.style.use('classic')\n",
    "plt.scatter(dlon, dlat, c=dv, cmap='cool')\n",
    "plt.colorbar()\n",
    "plt.title(\"U.S. County Average Wheat (bu/acre)\")\n",
    "plt.xlabel(\"Longitude Degrees\")\n",
    "plt.ylabel(\"Latitude Degrees\")\n",
    "plt.grid()"
   ]
  },
  {
   "cell_type": "code",
   "execution_count": null,
   "metadata": {},
   "outputs": [],
   "source": [
    "ddlat = CountySeats['LATITUDE']\n",
    "ddlon = CountySeats['LONGITUDE']"
   ]
  },
  {
   "cell_type": "code",
   "execution_count": null,
   "metadata": {},
   "outputs": [],
   "source": [
    "fig = plt.figure()\n",
    "plt.style.use('classic')\n",
    "plt.scatter(dlon, dlat, s=dv, alpha = 0.4)\n",
    "plt.scatter(ddlon, ddlat, s=.1)\n",
    "\n",
    "plt.xlim(-130,-65)\n",
    "plt.ylim(24,50)\n",
    "\n",
    "plt.title(\"U.S. County Average Wheat (bu/acre)\")\n",
    "plt.xlabel(\"Longitude Degrees\")\n",
    "plt.ylabel(\"Latitude Degrees\")\n",
    "plt.grid()"
   ]
  },
  {
   "cell_type": "code",
   "execution_count": null,
   "metadata": {},
   "outputs": [],
   "source": []
  },
  {
   "cell_type": "code",
   "execution_count": null,
   "metadata": {},
   "outputs": [],
   "source": []
  },
  {
   "cell_type": "markdown",
   "metadata": {},
   "source": [
    "## Saving some code for later ..."
   ]
  },
  {
   "cell_type": "code",
   "execution_count": null,
   "metadata": {},
   "outputs": [],
   "source": [
    "# Calc of Tippecanoe County ... nw, ne, se, sw\n",
    "nw = np.array[[40.562935, -87.095078], [40.562042, -86.695375], [40.214476, -86.695723], [40.214925, -87.092605]]"
   ]
  },
  {
   "cell_type": "code",
   "execution_count": null,
   "metadata": {},
   "outputs": [],
   "source": [
    "# Function computes the great circle (e.g., perfect sphere) model distance\n",
    "# between two points (lon1, lat1) and (lon2, lat2). R is the radius of the\n",
    "# sphere and the distance returned is in the same units as R.\n",
    "#\n",
    "# Note that lats and lons must be given in radians\n",
    "\n",
    "def GCDist(lon1, lat1, lon2, lat2, R):\n",
    "    temp = math.cos(lat1)*math.cos(lat2)*math.cos(lon1 - lon2) + math.sin(lat1)*math.sin(lat2)\n",
    "    d = R*math.acos(temp)\n",
    "    return d"
   ]
  },
  {
   "cell_type": "code",
   "execution_count": null,
   "metadata": {},
   "outputs": [],
   "source": [
    "R = 3958.8\n",
    "f = math.pi/180\n",
    "D_nw_ne = GCDist(-87.095078*f,40.562935*f,-86.695375*f,40.562042*f,R)\n",
    "D_nw_ne"
   ]
  },
  {
   "cell_type": "code",
   "execution_count": null,
   "metadata": {},
   "outputs": [],
   "source": []
  }
 ],
 "metadata": {
  "kernelspec": {
   "display_name": "Python 3",
   "language": "python",
   "name": "python3"
  },
  "language_info": {
   "codemirror_mode": {
    "name": "ipython",
    "version": 3
   },
   "file_extension": ".py",
   "mimetype": "text/x-python",
   "name": "python",
   "nbconvert_exporter": "python",
   "pygments_lexer": "ipython3",
   "version": "3.8.8"
  }
 },
 "nbformat": 4,
 "nbformat_minor": 2
}
